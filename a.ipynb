{
 "cells": [
  {
   "cell_type": "code",
   "execution_count": 1,
   "metadata": {},
   "outputs": [],
   "source": [
    "import pandas as pd"
   ]
  },
  {
   "cell_type": "code",
   "execution_count": 50,
   "metadata": {},
   "outputs": [],
   "source": [
    "FILEPATH = r\"C:\\\\Users\\\\Windows\\\\Desktop\\\\cc.xlsx\"\n",
    "df = pd.read_excel(FILEPATH)"
   ]
  },
  {
   "cell_type": "code",
   "execution_count": 51,
   "metadata": {},
   "outputs": [
    {
     "data": {
      "text/plain": [
       "Data e Horário                       datetime64[ns]\n",
       "Refeição                                     object\n",
       "Compulsão                                    object\n",
       "Quantidade                                    int64\n",
       "Alimentos Consumidos                         object\n",
       "Situação                                     object\n",
       "Como me senti durante?                       object\n",
       "Como me senti depois?                        object\n",
       "Como eu estava me sentindo antes?            object\n",
       "dtype: object"
      ]
     },
     "execution_count": 51,
     "metadata": {},
     "output_type": "execute_result"
    }
   ],
   "source": [
    "df.dtypes"
   ]
  },
  {
   "cell_type": "code",
   "execution_count": 62,
   "metadata": {},
   "outputs": [
    {
     "data": {
      "text/plain": [
       "Timestamp('2024-10-12 15:00:00')"
      ]
     },
     "execution_count": 62,
     "metadata": {},
     "output_type": "execute_result"
    }
   ],
   "source": [
    "max(df[\"Data e Horário\"])"
   ]
  },
  {
   "cell_type": "code",
   "execution_count": 46,
   "metadata": {},
   "outputs": [
    {
     "data": {
      "text/plain": [
       "['Focado',\n",
       " 'Satisfeito',\n",
       " 'Tranquilo',\n",
       " 'Bem',\n",
       " 'aproveitando a refeição',\n",
       " 'Satisfeito',\n",
       " 'Normal',\n",
       " 'com leve fome',\n",
       " 'Nervoso',\n",
       " 'Culpa',\n",
       " 'Ansioso',\n",
       " 'com vontade de comer algo doce',\n",
       " 'Bem',\n",
       " 'sem exageros',\n",
       " 'Satisfeito',\n",
       " 'Fome',\n",
       " 'mas tranquilo',\n",
       " 'Normal',\n",
       " 'Satisfeito',\n",
       " 'Tranquilo',\n",
       " 'Normal',\n",
       " 'Leve',\n",
       " 'sem culpa',\n",
       " 'Um pouco apressado',\n",
       " 'mas sem ansiedade',\n",
       " 'Bem',\n",
       " 'Satisfeito',\n",
       " 'Leve fome',\n",
       " 'mas tranquilo',\n",
       " 'Descontrolado',\n",
       " 'Culpa e frustração',\n",
       " 'Irritado',\n",
       " 'cansado do dia',\n",
       " 'Normal',\n",
       " 'Satisfeito',\n",
       " 'Animado',\n",
       " 'planejando o dia',\n",
       " 'Impulsivo',\n",
       " 'Triste e arrependido',\n",
       " 'Triste',\n",
       " 'buscando conforto emocional']"
      ]
     },
     "execution_count": 46,
     "metadata": {},
     "output_type": "execute_result"
    }
   ],
   "source": [
    "[x.strip() for j in [k.split(\",\") for i in df[[\"Como me senti durante?\",\"Como me senti depois?\",\"Como eu estava me sentindo antes?\"]].to_numpy() for k in i] for x in j]"
   ]
  },
  {
   "cell_type": "code",
   "execution_count": 41,
   "metadata": {},
   "outputs": [
    {
     "ename": "SyntaxError",
     "evalue": "f-string: expecting '}' (4187632035.py, line 1)",
     "output_type": "error",
     "traceback": [
      "\u001b[1;36m  Cell \u001b[1;32mIn[41], line 1\u001b[1;36m\u001b[0m\n\u001b[1;33m    f\" { \",\".join(df[\"Como me senti durante?\"])}\"\u001b[0m\n\u001b[1;37m          ^\u001b[0m\n\u001b[1;31mSyntaxError\u001b[0m\u001b[1;31m:\u001b[0m f-string: expecting '}'\n"
     ]
    }
   ],
   "source": [
    "f\" { \",\".join(df[\"Como me senti durante?\"])}\""
   ]
  },
  {
   "cell_type": "code",
   "execution_count": 16,
   "metadata": {},
   "outputs": [
    {
     "data": {
      "text/html": [
       "<div>\n",
       "<style scoped>\n",
       "    .dataframe tbody tr th:only-of-type {\n",
       "        vertical-align: middle;\n",
       "    }\n",
       "\n",
       "    .dataframe tbody tr th {\n",
       "        vertical-align: top;\n",
       "    }\n",
       "\n",
       "    .dataframe thead th {\n",
       "        text-align: right;\n",
       "    }\n",
       "</style>\n",
       "<table border=\"1\" class=\"dataframe\">\n",
       "  <thead>\n",
       "    <tr style=\"text-align: right;\">\n",
       "      <th></th>\n",
       "      <th>0</th>\n",
       "      <th>1</th>\n",
       "      <th>2</th>\n",
       "      <th>3</th>\n",
       "    </tr>\n",
       "  </thead>\n",
       "  <tbody>\n",
       "    <tr>\n",
       "      <th>0</th>\n",
       "      <td>Pão Integral Com Manteiga</td>\n",
       "      <td>Café Com Leite</td>\n",
       "      <td>None</td>\n",
       "      <td>None</td>\n",
       "    </tr>\n",
       "    <tr>\n",
       "      <th>1</th>\n",
       "      <td>Arroz</td>\n",
       "      <td>Feijão</td>\n",
       "      <td>Frango Grelhado</td>\n",
       "      <td>Salada</td>\n",
       "    </tr>\n",
       "    <tr>\n",
       "      <th>2</th>\n",
       "      <td>Biscoito De Chocolate</td>\n",
       "      <td>None</td>\n",
       "      <td>None</td>\n",
       "      <td>None</td>\n",
       "    </tr>\n",
       "    <tr>\n",
       "      <th>3</th>\n",
       "      <td>Lasanha De Carne</td>\n",
       "      <td>None</td>\n",
       "      <td>None</td>\n",
       "      <td>None</td>\n",
       "    </tr>\n",
       "    <tr>\n",
       "      <th>4</th>\n",
       "      <td>Iogurte Com Granola</td>\n",
       "      <td>None</td>\n",
       "      <td>None</td>\n",
       "      <td>None</td>\n",
       "    </tr>\n",
       "    <tr>\n",
       "      <th>5</th>\n",
       "      <td>Sanduíche Natural</td>\n",
       "      <td>Suco De Laranja</td>\n",
       "      <td>None</td>\n",
       "      <td>None</td>\n",
       "    </tr>\n",
       "    <tr>\n",
       "      <th>6</th>\n",
       "      <td>Barra De Cereal</td>\n",
       "      <td>None</td>\n",
       "      <td>None</td>\n",
       "      <td>None</td>\n",
       "    </tr>\n",
       "    <tr>\n",
       "      <th>7</th>\n",
       "      <td>Pizza (3 Queijos)</td>\n",
       "      <td>None</td>\n",
       "      <td>None</td>\n",
       "      <td>None</td>\n",
       "    </tr>\n",
       "    <tr>\n",
       "      <th>8</th>\n",
       "      <td>Panqueca Com Mel</td>\n",
       "      <td>Suco De Laranja</td>\n",
       "      <td>None</td>\n",
       "      <td>None</td>\n",
       "    </tr>\n",
       "    <tr>\n",
       "      <th>9</th>\n",
       "      <td>Sorvete De Chocolate</td>\n",
       "      <td>None</td>\n",
       "      <td>None</td>\n",
       "      <td>None</td>\n",
       "    </tr>\n",
       "  </tbody>\n",
       "</table>\n",
       "</div>"
      ],
      "text/plain": [
       "                           0                 1                 2        3\n",
       "0  Pão Integral Com Manteiga    Café Com Leite              None     None\n",
       "1                      Arroz            Feijão   Frango Grelhado   Salada\n",
       "2      Biscoito De Chocolate              None              None     None\n",
       "3           Lasanha De Carne              None              None     None\n",
       "4        Iogurte Com Granola              None              None     None\n",
       "5          Sanduíche Natural   Suco De Laranja              None     None\n",
       "6            Barra De Cereal              None              None     None\n",
       "7          Pizza (3 Queijos)              None              None     None\n",
       "8           Panqueca Com Mel   Suco De Laranja              None     None\n",
       "9       Sorvete De Chocolate              None              None     None"
      ]
     },
     "execution_count": 16,
     "metadata": {},
     "output_type": "execute_result"
    }
   ],
   "source": [
    "pd.DataFrame(df[\"Alimentos Consumidos\"].str.title())[\"Alimentos Consumidos\"].str.split(\",\",expand=True)"
   ]
  },
  {
   "cell_type": "code",
   "execution_count": 18,
   "metadata": {},
   "outputs": [
    {
     "data": {
      "text/plain": [
       "['Pão Integral Com Manteiga',\n",
       " ' Café Com Leite',\n",
       " 'Arroz',\n",
       " ' Feijão',\n",
       " ' Frango Grelhado',\n",
       " ' Salada',\n",
       " 'Biscoito De Chocolate',\n",
       " 'Lasanha De Carne',\n",
       " 'Iogurte Com Granola',\n",
       " 'Sanduíche Natural',\n",
       " ' Suco De Laranja',\n",
       " 'Barra De Cereal',\n",
       " 'Pizza (3 Queijos)',\n",
       " 'Panqueca Com Mel',\n",
       " ' Suco De Laranja',\n",
       " 'Sorvete De Chocolate']"
      ]
     },
     "execution_count": 18,
     "metadata": {},
     "output_type": "execute_result"
    }
   ],
   "source": [
    "[k.title() for i in df[\"Alimentos Consumidos\"].str.split(\",\").to_numpy() for k in i]"
   ]
  },
  {
   "cell_type": "code",
   "execution_count": 25,
   "metadata": {},
   "outputs": [],
   "source": [
    "food = {\n",
    "    \"Alimentos\": [k for i in df[\"Alimentos Consumidos\"].str.split(\",\").to_numpy() for k in i] ,\n",
    "}\n",
    "food = pd.DataFrame(food)\n",
    "food.groupby(\"Alimentos\")[\"Alimentos\"].count().reset_index(name='count').sort_values(['count'], ascending=False).head(3).to_numpy()\n"
   ]
  },
  {
   "cell_type": "code",
   "execution_count": 39,
   "metadata": {},
   "outputs": [
    {
     "data": {
      "text/plain": [
       "array([['Manga', 2],\n",
       "       ['Banana', 1],\n",
       "       ['Jabuticaba', 1]], dtype=object)"
      ]
     },
     "execution_count": 39,
     "metadata": {},
     "output_type": "execute_result"
    }
   ],
   "source": [
    "food.groupby(\"Alimentos\")[\"Alimentos\"].count().reset_index(name='count').sort_values(['count'], ascending=False).head(3).to_numpy()"
   ]
  },
  {
   "cell_type": "code",
   "execution_count": 15,
   "metadata": {},
   "outputs": [
    {
     "data": {
      "text/plain": [
       "{'Manga': 2, 'Jabuticaba': 1, 'Maça': 1, 'Banana': 1}"
      ]
     },
     "execution_count": 15,
     "metadata": {},
     "output_type": "execute_result"
    }
   ],
   "source": [
    "{f:food.count(f) for f in food}"
   ]
  },
  {
   "cell_type": "code",
   "execution_count": 14,
   "metadata": {},
   "outputs": [
    {
     "data": {
      "text/plain": [
       "['Manga', 'Jabuticaba', 'Maça', 'Manga', 'Banana']"
      ]
     },
     "execution_count": 14,
     "metadata": {},
     "output_type": "execute_result"
    }
   ],
   "source": [
    "food"
   ]
  }
 ],
 "metadata": {
  "kernelspec": {
   "display_name": "Python 3",
   "language": "python",
   "name": "python3"
  },
  "language_info": {
   "codemirror_mode": {
    "name": "ipython",
    "version": 3
   },
   "file_extension": ".py",
   "mimetype": "text/x-python",
   "name": "python",
   "nbconvert_exporter": "python",
   "pygments_lexer": "ipython3",
   "version": "3.11.0"
  }
 },
 "nbformat": 4,
 "nbformat_minor": 2
}
